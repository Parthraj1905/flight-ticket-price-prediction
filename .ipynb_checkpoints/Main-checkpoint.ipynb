{
 "cells": [
  {
   "cell_type": "code",
   "execution_count": null,
   "id": "b5e68cfe",
   "metadata": {},
   "outputs": [],
   "source": [
    "# This project is made using python version 3.11.9\n",
    "# Created on 30 May 2025, 12.42.43 PM"
   ]
  },
  {
   "cell_type": "markdown",
   "id": "6a52d52b",
   "metadata": {},
   "source": [
    "Import Libraries"
   ]
  },
  {
   "cell_type": "code",
   "execution_count": 2,
   "id": "ac5689b5",
   "metadata": {},
   "outputs": [],
   "source": [
    "import pandas as pd"
   ]
  },
  {
   "cell_type": "code",
   "execution_count": 3,
   "id": "d6bff3c1",
   "metadata": {},
   "outputs": [],
   "source": [
    "import matplotlib.pyplot as plt"
   ]
  },
  {
   "cell_type": "code",
   "execution_count": 3,
   "id": "fafb84ef",
   "metadata": {},
   "outputs": [],
   "source": [
    "import seaborn as sns"
   ]
  },
  {
   "cell_type": "code",
   "execution_count": null,
   "id": "7b4c479e",
   "metadata": {},
   "outputs": [],
   "source": [
    "import numpy as np"
   ]
  },
  {
   "cell_type": "markdown",
   "id": "b5074a29",
   "metadata": {},
   "source": [
    "Import The Data"
   ]
  },
  {
   "cell_type": "code",
   "execution_count": 4,
   "id": "7fcc5ca9",
   "metadata": {},
   "outputs": [],
   "source": [
    "clean_data = pd.read_csv(r\"data\\Clean_Dataset.csv\")\n",
    "\n",
    "business_data = pd.read_csv(r\"data\\business.csv\")\n",
    "\n",
    "economy_data = pd.read_csv(r\"data\\economy.csv\")"
   ]
  },
  {
   "cell_type": "markdown",
   "id": "a62303f7",
   "metadata": {},
   "source": [
    "Basic overview of Data"
   ]
  },
  {
   "cell_type": "code",
   "execution_count": 27,
   "id": "c95d166b",
   "metadata": {},
   "outputs": [
    {
     "data": {
      "text/html": [
       "<div>\n",
       "<style scoped>\n",
       "    .dataframe tbody tr th:only-of-type {\n",
       "        vertical-align: middle;\n",
       "    }\n",
       "\n",
       "    .dataframe tbody tr th {\n",
       "        vertical-align: top;\n",
       "    }\n",
       "\n",
       "    .dataframe thead th {\n",
       "        text-align: right;\n",
       "    }\n",
       "</style>\n",
       "<table border=\"1\" class=\"dataframe\">\n",
       "  <thead>\n",
       "    <tr style=\"text-align: right;\">\n",
       "      <th></th>\n",
       "      <th>Unnamed: 0</th>\n",
       "      <th>airline</th>\n",
       "      <th>flight</th>\n",
       "      <th>source_city</th>\n",
       "      <th>departure_time</th>\n",
       "      <th>stops</th>\n",
       "      <th>arrival_time</th>\n",
       "      <th>destination_city</th>\n",
       "      <th>class</th>\n",
       "      <th>duration</th>\n",
       "      <th>days_left</th>\n",
       "      <th>price</th>\n",
       "    </tr>\n",
       "  </thead>\n",
       "  <tbody>\n",
       "    <tr>\n",
       "      <th>0</th>\n",
       "      <td>0</td>\n",
       "      <td>SpiceJet</td>\n",
       "      <td>SG-8709</td>\n",
       "      <td>Delhi</td>\n",
       "      <td>Evening</td>\n",
       "      <td>zero</td>\n",
       "      <td>Night</td>\n",
       "      <td>Mumbai</td>\n",
       "      <td>Economy</td>\n",
       "      <td>2.17</td>\n",
       "      <td>1</td>\n",
       "      <td>5953</td>\n",
       "    </tr>\n",
       "    <tr>\n",
       "      <th>1</th>\n",
       "      <td>1</td>\n",
       "      <td>SpiceJet</td>\n",
       "      <td>SG-8157</td>\n",
       "      <td>Delhi</td>\n",
       "      <td>Early_Morning</td>\n",
       "      <td>zero</td>\n",
       "      <td>Morning</td>\n",
       "      <td>Mumbai</td>\n",
       "      <td>Economy</td>\n",
       "      <td>2.33</td>\n",
       "      <td>1</td>\n",
       "      <td>5953</td>\n",
       "    </tr>\n",
       "    <tr>\n",
       "      <th>2</th>\n",
       "      <td>2</td>\n",
       "      <td>AirAsia</td>\n",
       "      <td>I5-764</td>\n",
       "      <td>Delhi</td>\n",
       "      <td>Early_Morning</td>\n",
       "      <td>zero</td>\n",
       "      <td>Early_Morning</td>\n",
       "      <td>Mumbai</td>\n",
       "      <td>Economy</td>\n",
       "      <td>2.17</td>\n",
       "      <td>1</td>\n",
       "      <td>5956</td>\n",
       "    </tr>\n",
       "  </tbody>\n",
       "</table>\n",
       "</div>"
      ],
      "text/plain": [
       "   Unnamed: 0   airline   flight source_city departure_time stops  \\\n",
       "0           0  SpiceJet  SG-8709       Delhi        Evening  zero   \n",
       "1           1  SpiceJet  SG-8157       Delhi  Early_Morning  zero   \n",
       "2           2   AirAsia   I5-764       Delhi  Early_Morning  zero   \n",
       "\n",
       "    arrival_time destination_city    class  duration  days_left  price  \n",
       "0          Night           Mumbai  Economy      2.17          1   5953  \n",
       "1        Morning           Mumbai  Economy      2.33          1   5953  \n",
       "2  Early_Morning           Mumbai  Economy      2.17          1   5956  "
      ]
     },
     "execution_count": 27,
     "metadata": {},
     "output_type": "execute_result"
    }
   ],
   "source": [
    "clean_data.head(3)"
   ]
  },
  {
   "cell_type": "code",
   "execution_count": 26,
   "id": "22600037",
   "metadata": {},
   "outputs": [
    {
     "data": {
      "text/html": [
       "<div>\n",
       "<style scoped>\n",
       "    .dataframe tbody tr th:only-of-type {\n",
       "        vertical-align: middle;\n",
       "    }\n",
       "\n",
       "    .dataframe tbody tr th {\n",
       "        vertical-align: top;\n",
       "    }\n",
       "\n",
       "    .dataframe thead th {\n",
       "        text-align: right;\n",
       "    }\n",
       "</style>\n",
       "<table border=\"1\" class=\"dataframe\">\n",
       "  <thead>\n",
       "    <tr style=\"text-align: right;\">\n",
       "      <th></th>\n",
       "      <th>date</th>\n",
       "      <th>airline</th>\n",
       "      <th>ch_code</th>\n",
       "      <th>num_code</th>\n",
       "      <th>dep_time</th>\n",
       "      <th>from</th>\n",
       "      <th>time_taken</th>\n",
       "      <th>stop</th>\n",
       "      <th>arr_time</th>\n",
       "      <th>to</th>\n",
       "      <th>price</th>\n",
       "    </tr>\n",
       "  </thead>\n",
       "  <tbody>\n",
       "    <tr>\n",
       "      <th>0</th>\n",
       "      <td>11-02-2022</td>\n",
       "      <td>Air India</td>\n",
       "      <td>AI</td>\n",
       "      <td>868</td>\n",
       "      <td>18.0</td>\n",
       "      <td>Delhi</td>\n",
       "      <td>02h 00m</td>\n",
       "      <td>non-stop</td>\n",
       "      <td>20.00</td>\n",
       "      <td>Mumbai</td>\n",
       "      <td>25,612</td>\n",
       "    </tr>\n",
       "    <tr>\n",
       "      <th>1</th>\n",
       "      <td>11-02-2022</td>\n",
       "      <td>Air India</td>\n",
       "      <td>AI</td>\n",
       "      <td>624</td>\n",
       "      <td>19.0</td>\n",
       "      <td>Delhi</td>\n",
       "      <td>02h 15m</td>\n",
       "      <td>non-stop</td>\n",
       "      <td>21.15</td>\n",
       "      <td>Mumbai</td>\n",
       "      <td>25,612</td>\n",
       "    </tr>\n",
       "    <tr>\n",
       "      <th>2</th>\n",
       "      <td>11-02-2022</td>\n",
       "      <td>Air India</td>\n",
       "      <td>AI</td>\n",
       "      <td>531</td>\n",
       "      <td>20.0</td>\n",
       "      <td>Delhi</td>\n",
       "      <td>24h 45m</td>\n",
       "      <td>1-stop\\n\\t\\t\\t\\t\\t\\t\\t\\t\\t\\t\\t\\t\\n\\t\\t\\t\\t\\t\\t...</td>\n",
       "      <td>20.45</td>\n",
       "      <td>Mumbai</td>\n",
       "      <td>42,220</td>\n",
       "    </tr>\n",
       "  </tbody>\n",
       "</table>\n",
       "</div>"
      ],
      "text/plain": [
       "         date    airline ch_code  num_code  dep_time   from time_taken  \\\n",
       "0  11-02-2022  Air India      AI       868      18.0  Delhi    02h 00m   \n",
       "1  11-02-2022  Air India      AI       624      19.0  Delhi    02h 15m   \n",
       "2  11-02-2022  Air India      AI       531      20.0  Delhi    24h 45m   \n",
       "\n",
       "                                                stop  arr_time      to   price  \n",
       "0                                          non-stop      20.00  Mumbai  25,612  \n",
       "1                                          non-stop      21.15  Mumbai  25,612  \n",
       "2  1-stop\\n\\t\\t\\t\\t\\t\\t\\t\\t\\t\\t\\t\\t\\n\\t\\t\\t\\t\\t\\t...     20.45  Mumbai  42,220  "
      ]
     },
     "execution_count": 26,
     "metadata": {},
     "output_type": "execute_result"
    }
   ],
   "source": [
    "business_data.head(3)"
   ]
  },
  {
   "cell_type": "code",
   "execution_count": 25,
   "id": "57537fac",
   "metadata": {},
   "outputs": [
    {
     "data": {
      "text/html": [
       "<div>\n",
       "<style scoped>\n",
       "    .dataframe tbody tr th:only-of-type {\n",
       "        vertical-align: middle;\n",
       "    }\n",
       "\n",
       "    .dataframe tbody tr th {\n",
       "        vertical-align: top;\n",
       "    }\n",
       "\n",
       "    .dataframe thead th {\n",
       "        text-align: right;\n",
       "    }\n",
       "</style>\n",
       "<table border=\"1\" class=\"dataframe\">\n",
       "  <thead>\n",
       "    <tr style=\"text-align: right;\">\n",
       "      <th></th>\n",
       "      <th>date</th>\n",
       "      <th>airline</th>\n",
       "      <th>ch_code</th>\n",
       "      <th>num_code</th>\n",
       "      <th>dep_time</th>\n",
       "      <th>from</th>\n",
       "      <th>time_taken</th>\n",
       "      <th>stop</th>\n",
       "      <th>arr_time</th>\n",
       "      <th>to</th>\n",
       "      <th>price</th>\n",
       "    </tr>\n",
       "  </thead>\n",
       "  <tbody>\n",
       "    <tr>\n",
       "      <th>0</th>\n",
       "      <td>11-02-2022</td>\n",
       "      <td>SpiceJet</td>\n",
       "      <td>SG</td>\n",
       "      <td>8709</td>\n",
       "      <td>18.55</td>\n",
       "      <td>Delhi</td>\n",
       "      <td>02h 10m</td>\n",
       "      <td>non-stop</td>\n",
       "      <td>21.05</td>\n",
       "      <td>Mumbai</td>\n",
       "      <td>5,953</td>\n",
       "    </tr>\n",
       "    <tr>\n",
       "      <th>1</th>\n",
       "      <td>11-02-2022</td>\n",
       "      <td>SpiceJet</td>\n",
       "      <td>SG</td>\n",
       "      <td>8157</td>\n",
       "      <td>6.20</td>\n",
       "      <td>Delhi</td>\n",
       "      <td>02h 20m</td>\n",
       "      <td>non-stop</td>\n",
       "      <td>8.40</td>\n",
       "      <td>Mumbai</td>\n",
       "      <td>5,953</td>\n",
       "    </tr>\n",
       "    <tr>\n",
       "      <th>2</th>\n",
       "      <td>11-02-2022</td>\n",
       "      <td>AirAsia</td>\n",
       "      <td>I5</td>\n",
       "      <td>764</td>\n",
       "      <td>4.25</td>\n",
       "      <td>Delhi</td>\n",
       "      <td>02h 10m</td>\n",
       "      <td>non-stop</td>\n",
       "      <td>6.35</td>\n",
       "      <td>Mumbai</td>\n",
       "      <td>5,956</td>\n",
       "    </tr>\n",
       "  </tbody>\n",
       "</table>\n",
       "</div>"
      ],
      "text/plain": [
       "         date   airline ch_code  num_code  dep_time   from time_taken  \\\n",
       "0  11-02-2022  SpiceJet      SG      8709     18.55  Delhi    02h 10m   \n",
       "1  11-02-2022  SpiceJet      SG      8157      6.20  Delhi    02h 20m   \n",
       "2  11-02-2022   AirAsia      I5       764      4.25  Delhi    02h 10m   \n",
       "\n",
       "        stop  arr_time      to  price  \n",
       "0  non-stop      21.05  Mumbai  5,953  \n",
       "1  non-stop       8.40  Mumbai  5,953  \n",
       "2  non-stop       6.35  Mumbai  5,956  "
      ]
     },
     "execution_count": 25,
     "metadata": {},
     "output_type": "execute_result"
    }
   ],
   "source": [
    "economy_data.head(3)"
   ]
  },
  {
   "cell_type": "markdown",
   "id": "320b49f8",
   "metadata": {},
   "source": [
    "Creating the Dataframe"
   ]
  },
  {
   "cell_type": "code",
   "execution_count": 5,
   "id": "717ca9c8",
   "metadata": {},
   "outputs": [],
   "source": [
    "df_clean_data = pd.DataFrame(clean_data)\n",
    "df_economy = pd.DataFrame(economy_data)\n",
    "df_business = pd.DataFrame(business_data)"
   ]
  },
  {
   "cell_type": "markdown",
   "id": "97d7870a",
   "metadata": {},
   "source": [
    "Basic overview of Data in CSV"
   ]
  },
  {
   "cell_type": "code",
   "execution_count": 13,
   "id": "2aeaa161",
   "metadata": {},
   "outputs": [
    {
     "name": "stdout",
     "output_type": "stream",
     "text": [
      "['11-02-2022' '12-02-2022' '13-02-2022' '14-02-2022' '15-02-2022'\n",
      " '16-02-2022' '17-02-2022' '18-02-2022' '19-02-2022' '20-02-2022'\n",
      " '21-02-2022' '22-02-2022' '23-02-2022' '24-02-2022' '25-02-2022'\n",
      " '26-02-2022' '27-02-2022' '28-02-2022' '01-03-2022' '02-03-2022'\n",
      " '03-03-2022' '04-03-2022' '05-03-2022' '06-03-2022' '07-03-2022'\n",
      " '08-03-2022' '09-03-2022' '10-03-2022' '11-03-2022' '12-03-2022'\n",
      " '13-03-2022' '14-03-2022' '15-03-2022' '16-03-2022' '17-03-2022'\n",
      " '18-03-2022' '19-03-2022' '20-03-2022' '21-03-2022' '22-03-2022'\n",
      " '23-03-2022' '24-03-2022' '25-03-2022' '26-03-2022' '27-03-2022'\n",
      " '28-03-2022' '29-03-2022' '30-03-2022' '31-03-2022']\n"
     ]
    }
   ],
   "source": [
    "# Assuming column 'L' exists\n",
    "distinct_values = df_economy['date'].iloc[1:].dropna().unique()\n",
    "print(distinct_values)\n"
   ]
  },
  {
   "cell_type": "code",
   "execution_count": 14,
   "id": "1b4874bc",
   "metadata": {},
   "outputs": [
    {
     "name": "stdout",
     "output_type": "stream",
     "text": [
      "['11-02-2022' '12-02-2022' '13-02-2022' '14-02-2022' '15-02-2022'\n",
      " '16-02-2022' '17-02-2022' '18-02-2022' '19-02-2022' '20-02-2022'\n",
      " '21-02-2022' '22-02-2022' '23-02-2022' '24-02-2022' '25-02-2022'\n",
      " '26-02-2022' '27-02-2022' '28-02-2022' '01-03-2022' '02-03-2022'\n",
      " '03-03-2022' '04-03-2022' '05-03-2022' '06-03-2022' '07-03-2022'\n",
      " '08-03-2022' '09-03-2022' '10-03-2022' '11-03-2022' '12-03-2022'\n",
      " '13-03-2022' '14-03-2022' '15-03-2022' '16-03-2022' '17-03-2022'\n",
      " '18-03-2022' '19-03-2022' '20-03-2022' '21-03-2022' '22-03-2022'\n",
      " '23-03-2022' '24-03-2022' '25-03-2022' '26-03-2022' '27-03-2022'\n",
      " '28-03-2022' '29-03-2022' '30-03-2022' '31-03-2022']\n"
     ]
    }
   ],
   "source": [
    "distinct_values = df_business['date'].iloc[1:].dropna().unique()\n",
    "print(distinct_values)"
   ]
  },
  {
   "cell_type": "markdown",
   "id": "08e2c360",
   "metadata": {},
   "source": [
    "Basic overview of Price"
   ]
  },
  {
   "cell_type": "code",
   "execution_count": 15,
   "id": "6cb87d5a",
   "metadata": {},
   "outputs": [
    {
     "data": {
      "text/plain": [
       "False"
      ]
     },
     "execution_count": 15,
     "metadata": {},
     "output_type": "execute_result"
    }
   ],
   "source": [
    "df_economy['price'].isnull().any()\n"
   ]
  },
  {
   "cell_type": "code",
   "execution_count": 18,
   "id": "2176d901",
   "metadata": {},
   "outputs": [
    {
     "name": "stdout",
     "output_type": "stream",
     "text": [
      "Mean price of flight tickets during February to March in 2022: 20889.71 ₹\n"
     ]
    }
   ],
   "source": [
    "column_name = 'L'  \n",
    "column_values = clean_data['price']\n",
    "\n",
    "# L2 to L300154\n",
    "\n",
    "# Extract the range of rows from E2 to E38\n",
    "range_start = 1  # Python is zero-indexed, so row 2 corresponds to index 1\n",
    "range_end = 300153   # Row 38 corresponds to index 37\n",
    "range_value = column_values.iloc[range_start:range_end + 1]  # Adding 1 to include the end index\n",
    "\n",
    "# Replace \"NA\" with np.nan or 0\n",
    "range_values = range_value.replace(\"NA\", 0)\n",
    "\n",
    "# range_mean = range_values.astype(float).mean() \n",
    "range_mean = round(range_values.astype(float).mean(), 2)\n",
    "\n",
    "# Mean of cells in the range of E2 to E38\n",
    "print(\"Mean price of flight tickets during February to March in 2022:\", range_mean, \"₹\")\n"
   ]
  },
  {
   "cell_type": "code",
   "execution_count": 12,
   "id": "7052062f",
   "metadata": {},
   "outputs": [
    {
     "name": "stdout",
     "output_type": "stream",
     "text": [
      "Minimum price of flight tickets during February to March in 2022: 1105.0 ₹\n"
     ]
    }
   ],
   "source": [
    "column_name = 'L'  \n",
    "column_values = clean_data['price']\n",
    "\n",
    "# L2 to L300154\n",
    "\n",
    "# Extract the range of rows from E2 to E38\n",
    "range_start = 1  # Python is zero-indexed, so row 2 corresponds to index 1\n",
    "range_end = 300153   # Row 38 corresponds to index 37\n",
    "range_value = column_values.iloc[range_start:range_end + 1]  # Adding 1 to include the end index\n",
    "\n",
    "# Replace \"NA\" with np.nan or 0\n",
    "range_values = range_value.replace(\"NA\", 0)\n",
    "\n",
    "# range_mean = range_values.astype(float).mean() \n",
    "range_mean = round(range_values.astype(float).min(), 2)\n",
    "\n",
    "# Mean of cells in the range of E2 to E38\n",
    "print(\"Minimum price of flight tickets during February to March in 2022:\", range_mean, \"₹\")\n"
   ]
  },
  {
   "cell_type": "markdown",
   "id": "292cbf35",
   "metadata": {},
   "source": [
    "Data Analysis of Data"
   ]
  },
  {
   "cell_type": "code",
   "execution_count": 24,
   "id": "207deb4a",
   "metadata": {},
   "outputs": [
    {
     "data": {
      "text/html": [
       "<div>\n",
       "<style scoped>\n",
       "    .dataframe tbody tr th:only-of-type {\n",
       "        vertical-align: middle;\n",
       "    }\n",
       "\n",
       "    .dataframe tbody tr th {\n",
       "        vertical-align: top;\n",
       "    }\n",
       "\n",
       "    .dataframe thead th {\n",
       "        text-align: right;\n",
       "    }\n",
       "</style>\n",
       "<table border=\"1\" class=\"dataframe\">\n",
       "  <thead>\n",
       "    <tr style=\"text-align: right;\">\n",
       "      <th></th>\n",
       "      <th>duration</th>\n",
       "      <th>price</th>\n",
       "    </tr>\n",
       "  </thead>\n",
       "  <tbody>\n",
       "    <tr>\n",
       "      <th>count</th>\n",
       "      <td>300153.00</td>\n",
       "      <td>300153.00</td>\n",
       "    </tr>\n",
       "    <tr>\n",
       "      <th>mean</th>\n",
       "      <td>12.22</td>\n",
       "      <td>20889.66</td>\n",
       "    </tr>\n",
       "    <tr>\n",
       "      <th>std</th>\n",
       "      <td>7.19</td>\n",
       "      <td>22697.77</td>\n",
       "    </tr>\n",
       "    <tr>\n",
       "      <th>min</th>\n",
       "      <td>0.83</td>\n",
       "      <td>1105.00</td>\n",
       "    </tr>\n",
       "    <tr>\n",
       "      <th>25%</th>\n",
       "      <td>6.83</td>\n",
       "      <td>4783.00</td>\n",
       "    </tr>\n",
       "    <tr>\n",
       "      <th>50%</th>\n",
       "      <td>11.25</td>\n",
       "      <td>7425.00</td>\n",
       "    </tr>\n",
       "    <tr>\n",
       "      <th>75%</th>\n",
       "      <td>16.17</td>\n",
       "      <td>42521.00</td>\n",
       "    </tr>\n",
       "    <tr>\n",
       "      <th>max</th>\n",
       "      <td>49.83</td>\n",
       "      <td>123071.00</td>\n",
       "    </tr>\n",
       "  </tbody>\n",
       "</table>\n",
       "</div>"
      ],
      "text/plain": [
       "        duration      price\n",
       "count  300153.00  300153.00\n",
       "mean       12.22   20889.66\n",
       "std         7.19   22697.77\n",
       "min         0.83    1105.00\n",
       "25%         6.83    4783.00\n",
       "50%        11.25    7425.00\n",
       "75%        16.17   42521.00\n",
       "max        49.83  123071.00"
      ]
     },
     "execution_count": 24,
     "metadata": {},
     "output_type": "execute_result"
    }
   ],
   "source": [
    "clean_data[['duration', 'price']].describe().round(2)\n"
   ]
  },
  {
   "cell_type": "code",
   "execution_count": 23,
   "id": "64d49e05",
   "metadata": {},
   "outputs": [
    {
     "name": "stdout",
     "output_type": "stream",
     "text": [
      "<class 'pandas.core.frame.DataFrame'>\n",
      "RangeIndex: 300153 entries, 0 to 300152\n",
      "Data columns (total 12 columns):\n",
      " #   Column            Non-Null Count   Dtype  \n",
      "---  ------            --------------   -----  \n",
      " 0   Unnamed: 0        300153 non-null  int64  \n",
      " 1   airline           300153 non-null  object \n",
      " 2   flight            300153 non-null  object \n",
      " 3   source_city       300153 non-null  object \n",
      " 4   departure_time    300153 non-null  object \n",
      " 5   stops             300153 non-null  object \n",
      " 6   arrival_time      300153 non-null  object \n",
      " 7   destination_city  300153 non-null  object \n",
      " 8   class             300153 non-null  object \n",
      " 9   duration          300153 non-null  float64\n",
      " 10  days_left         300153 non-null  int64  \n",
      " 11  price             300153 non-null  int64  \n",
      "dtypes: float64(1), int64(3), object(8)\n",
      "memory usage: 27.5+ MB\n"
     ]
    }
   ],
   "source": [
    "clean_data.info()"
   ]
  },
  {
   "cell_type": "code",
   "execution_count": 28,
   "id": "f1b38db4",
   "metadata": {},
   "outputs": [
    {
     "name": "stdout",
     "output_type": "stream",
     "text": [
      "['SpiceJet' 'AirAsia' 'Vistara' 'GO_FIRST' 'Indigo' 'Air_India']\n"
     ]
    }
   ],
   "source": [
    "distinct_values = df_clean_data['airline'].iloc[1:].dropna().unique()\n",
    "print(distinct_values)\n"
   ]
  },
  {
   "cell_type": "code",
   "execution_count": 29,
   "id": "53696863",
   "metadata": {},
   "outputs": [
    {
     "data": {
      "text/plain": [
       "{'Vistara': 127859,\n",
       " 'Air_India': 80892,\n",
       " 'Indigo': 43120,\n",
       " 'GO_FIRST': 23173,\n",
       " 'AirAsia': 16098,\n",
       " 'SpiceJet': 9011}"
      ]
     },
     "execution_count": 29,
     "metadata": {},
     "output_type": "execute_result"
    }
   ],
   "source": [
    "df_clean_data['airline'].value_counts().to_dict()\n"
   ]
  },
  {
   "cell_type": "code",
   "execution_count": 33,
   "id": "4815382c",
   "metadata": {},
   "outputs": [
    {
     "data": {
      "text/plain": [
       "{'Economy': 206666, 'Business': 93487}"
      ]
     },
     "execution_count": 33,
     "metadata": {},
     "output_type": "execute_result"
    }
   ],
   "source": [
    "df_clean_data['class'].value_counts().to_dict()\n"
   ]
  },
  {
   "cell_type": "code",
   "execution_count": 34,
   "id": "242f2f59",
   "metadata": {},
   "outputs": [
    {
     "name": "stdout",
     "output_type": "stream",
     "text": [
      "airline    class   \n",
      "AirAsia    Economy     16098\n",
      "Air_India  Economy     47994\n",
      "           Business    32898\n",
      "GO_FIRST   Economy     23173\n",
      "Indigo     Economy     43120\n",
      "SpiceJet   Economy      9011\n",
      "Vistara    Economy     67270\n",
      "           Business    60589\n",
      "Name: count, dtype: int64\n"
     ]
    }
   ],
   "source": [
    "class_counts_by_airline = df_clean_data.groupby('airline')['class'].value_counts()\n",
    "\n",
    "print(class_counts_by_airline)\n"
   ]
  },
  {
   "cell_type": "code",
   "execution_count": 13,
   "id": "850d54c5",
   "metadata": {},
   "outputs": [
    {
     "data": {
      "image/png": "[encoded data removed]",
      "text/plain": [
       "<Figure size 300x300 with 1 Axes>"
      ]
     },
     "metadata": {},
     "output_type": "display_data"
    }
   ],
   "source": [
    "import matplotlib.pyplot as plt\n",
    "\n",
    "# Get counts\n",
    "airline_counts = df_clean_data['airline'].value_counts()\n",
    "\n",
    "# Convert to percentages\n",
    "percentages = (airline_counts / airline_counts.sum()) * 100\n",
    "\n",
    "# Plot pie chart\n",
    "plt.figure(figsize=(3, 3))\n",
    "plt.pie(\n",
    "    percentages,\n",
    "    labels=airline_counts.index,\n",
    "    autopct='%1.1f%%',     # Show % with 1 decimal\n",
    "    startangle=140,\n",
    "    shadow=True\n",
    ")\n",
    "plt.title('Airline Distribution (%)')\n",
    "plt.axis('equal')  # Equal aspect ratio for a circle\n",
    "plt.show()\n"
   ]
  },
  {
   "cell_type": "code",
   "execution_count": 11,
   "id": "9642a04f",
   "metadata": {},
   "outputs": [
    {
     "data": {
      "image/png": "[encoded data removed]",
      "text/plain": [
       "<Figure size 400x400 with 1 Axes>"
      ]
     },
     "metadata": {},
     "output_type": "display_data"
    }
   ],
   "source": [
    "# Filter for Economy class\n",
    "economy_data = df_clean_data[df_clean_data['class'] == 'Economy']\n",
    "\n",
    "# Get airline counts for Economy class\n",
    "airline_counts = economy_data['airline'].value_counts()\n",
    "\n",
    "# Convert to percentages\n",
    "percentages = (airline_counts / airline_counts.sum()) * 100\n",
    "\n",
    "# Plot pie chart\n",
    "import matplotlib.pyplot as plt\n",
    "\n",
    "plt.figure(figsize=(4, 4))\n",
    "plt.pie(\n",
    "    percentages,\n",
    "    labels=airline_counts.index,\n",
    "    autopct='%1.1f%%',\n",
    "    startangle=140,\n",
    "    shadow=True\n",
    ")\n",
    "plt.title('Airline Distribution for Economy Class (%)')\n",
    "plt.axis('equal')\n",
    "plt.show()\n"
   ]
  },
  {
   "cell_type": "code",
   "execution_count": 10,
   "id": "1d9fadf8",
   "metadata": {},
   "outputs": [
    {
     "data": {
      "image/png": "[encoded data removed]",
      "text/plain": [
       "<Figure size 300x300 with 1 Axes>"
      ]
     },
     "metadata": {},
     "output_type": "display_data"
    }
   ],
   "source": [
    "# Filter for Economy class\n",
    "economy_data = df_clean_data[df_clean_data['class'] == 'Business']\n",
    "\n",
    "# Get airline counts for Economy class\n",
    "airline_counts = economy_data['airline'].value_counts()\n",
    "\n",
    "# Convert to percentages\n",
    "percentages = (airline_counts / airline_counts.sum()) * 100\n",
    "\n",
    "# Plot pie chart\n",
    "import matplotlib.pyplot as plt\n",
    "\n",
    "plt.figure(figsize=(3, 3))\n",
    "plt.pie(\n",
    "    percentages,\n",
    "    labels=airline_counts.index,\n",
    "    autopct='%1.1f%%',\n",
    "    startangle=140,\n",
    "    shadow=True\n",
    ")\n",
    "plt.title('Airline Distribution for Economy Class (%)')\n",
    "plt.axis('equal')\n",
    "plt.show()\n"
   ]
  },
  {
   "cell_type": "markdown",
   "id": "22d3d248",
   "metadata": {},
   "source": [
    "Top 10 Routes of Flights"
   ]
  },
  {
   "cell_type": "code",
   "execution_count": 6,
   "id": "fc05cc60",
   "metadata": {},
   "outputs": [
    {
     "name": "stdout",
     "output_type": "stream",
     "text": [
      "Route\n",
      "Delhi -> Mumbai        15289\n",
      "Mumbai -> Delhi        14809\n",
      "Delhi -> Bangalore     14012\n",
      "Bangalore -> Delhi     13756\n",
      "Bangalore -> Mumbai    12939\n",
      "Mumbai -> Bangalore    12885\n",
      "Mumbai -> Kolkata      12602\n",
      "Delhi -> Kolkata       11934\n",
      "Kolkata -> Mumbai      11467\n",
      "Delhi -> Chennai       10780\n",
      "Name: count, dtype: int64\n"
     ]
    }
   ],
   "source": [
    "\n",
    "# Create a 'Route' column by combining source and destination\n",
    "df_clean_data['Route'] = df_clean_data['source_city'] + ' -> ' + clean_data['destination_city']\n",
    "\n",
    "# Count how many times each route occurs\n",
    "route_counts = df_clean_data['Route'].value_counts()\n",
    "\n",
    "# Get the top 5 routes\n",
    "top_5_routes = route_counts.head(10)\n",
    "\n",
    "# Display results\n",
    "print(top_5_routes)\n"
   ]
  },
  {
   "cell_type": "code",
   "execution_count": 9,
   "id": "777eda91",
   "metadata": {},
   "outputs": [
    {
     "name": "stdout",
     "output_type": "stream",
     "text": [
      "                     Flight_Count  Average_Price\n",
      "Route                                           \n",
      "Delhi -> Mumbai             15289       19355.83\n",
      "Mumbai -> Delhi             14809       18725.32\n",
      "Delhi -> Bangalore          14012       17880.22\n",
      "Bangalore -> Delhi          13756       17723.31\n",
      "Bangalore -> Mumbai         12939       23128.62\n",
      "Mumbai -> Bangalore         12885       23147.87\n",
      "Mumbai -> Kolkata           12602       22379.15\n",
      "Delhi -> Kolkata            11934       20566.41\n",
      "Kolkata -> Mumbai           11467       22078.88\n",
      "Delhi -> Chennai            10780       19369.88\n"
     ]
    }
   ],
   "source": [
    "\n",
    "# Create a 'Route' column\n",
    "df_clean_data['Route'] = df_clean_data['source_city'] + ' -> ' + clean_data['destination_city']\n",
    "\n",
    "# Group by 'Route' and calculate count and average price\n",
    "route_stats = df_clean_data.groupby('Route').agg(\n",
    "    Flight_Count=('Route', 'count'),\n",
    "    Average_Price=('price', 'mean')\n",
    ")\n",
    "\n",
    "# Sort by most frequent routes\n",
    "top_5_routes = route_stats.sort_values(by='Flight_Count', ascending=False).head(10)\n",
    "\n",
    "# Round average prices for cleaner output (optional)\n",
    "top_5_routes['Average_Price'] = top_5_routes['Average_Price'].round(2)\n",
    "\n",
    "# Display results\n",
    "print(top_5_routes)\n"
   ]
  },
  {
   "cell_type": "markdown",
   "id": "1df568d6",
   "metadata": {},
   "source": [
    "Price of Flight Ticket according to Airline"
   ]
  },
  {
   "cell_type": "code",
   "execution_count": 35,
   "id": "9c32b16f",
   "metadata": {},
   "outputs": [
    {
     "name": "stderr",
     "output_type": "stream",
     "text": [
      "C:\\Users\\Darshil Vaghela\\AppData\\Local\\Temp\\ipykernel_16048\\1129071925.py:6: FutureWarning: \n",
      "\n",
      "Passing `palette` without assigning `hue` is deprecated and will be removed in v0.14.0. Assign the `x` variable to `hue` and set `legend=False` for the same effect.\n",
      "\n",
      "  sns.barplot(x=mean_prices.index, y=mean_prices.values, width=0.5,  palette='ch:s=-.2,r=.6')\n"
     ]
    },
    {
     "data": {
      "image/png": "[encoded data removed]",
      "text/plain": [
       "<Figure size 800x500 with 1 Axes>"
      ]
     },
     "metadata": {},
     "output_type": "display_data"
    }
   ],
   "source": [
    "\n",
    "# Compute mean price per airline\n",
    "mean_prices = df_clean_data.groupby('airline')['price'].mean().sort_values()\n",
    "\n",
    "# Plot\n",
    "plt.figure(figsize=(8, 5))\n",
    "sns.barplot(x=mean_prices.index, y=mean_prices.values, width=0.5,  palette='ch:s=-.2,r=.6')\n",
    "\n",
    "plt.xticks(rotation=60)\n",
    "plt.title('Average Flight Price per Airline')\n",
    "plt.xlabel('Airline')\n",
    "plt.ylabel('Average Price')\n",
    "plt.tight_layout()\n",
    "plt.show()"
   ]
  },
  {
   "cell_type": "markdown",
   "id": "e8faaa5a",
   "metadata": {},
   "source": [
    "Flight Count vs Average Flight Price per Airline"
   ]
  },
  {
   "cell_type": "code",
   "execution_count": 28,
   "id": "54d01f75",
   "metadata": {},
   "outputs": [
    {
     "data": {
      "image/png": "[encoded data removed]",
      "text/plain": [
       "<Figure size 1000x600 with 1 Axes>"
      ]
     },
     "metadata": {},
     "output_type": "display_data"
    }
   ],
   "source": [
    "\n",
    "# Step 1: Compute flight counts per airline\n",
    "airline_counts = df_clean_data['airline'].value_counts()\n",
    "\n",
    "# Step 2: Compute average price per airline\n",
    "mean_prices = df_clean_data.groupby('airline')['price'].mean()\n",
    "\n",
    "# Step 3: Combine both into a single DataFrame\n",
    "airline_stats = pd.concat([airline_counts, mean_prices], axis=1).reset_index()\n",
    "airline_stats.columns = ['Airline', 'Flight_Count', 'Average_Price']\n",
    "\n",
    "# Step 4: Plot the relationship\n",
    "plt.figure(figsize=(10, 6))\n",
    "plt.grid(True, zorder=0)\n",
    "sns.scatterplot(\n",
    "    data=airline_stats,\n",
    "    x='Flight_Count',\n",
    "    y='Average_Price',\n",
    "    hue='Airline',\n",
    "    s=100,  # size of points\n",
    "    # grid lines\n",
    "    zorder=3,\n",
    "    # Dots \n",
    "    palette='Set2',\n",
    "    edgecolor='black', linewidth=0.5,\n",
    "\n",
    ")\n",
    "\n",
    "plt.title('Flight Count vs Average Flight Price per Airline')\n",
    "plt.xlabel('Number of Flights Operated')\n",
    "plt.ylabel('Average Flight Price')\n",
    "\n",
    "\n",
    "x_step = 30000\n",
    "y_step = 9000\n",
    "\n",
    "# Get max values from data\n",
    "x_max = airline_stats['Flight_Count'].max()\n",
    "y_max = airline_stats['Average_Price'].max()\n",
    "\n",
    "# Apply dynamic ticks\n",
    "plt.xticks(range(0, int(x_max) + x_step, x_step))\n",
    "plt.yticks(range(0, int(y_max) + y_step, y_step))\n",
    "\n",
    "plt.legend(bbox_to_anchor=(1.05, 1), loc='upper left')  # move legend outside\n",
    "plt.tight_layout()\n",
    "plt.show()\n"
   ]
  },
  {
   "cell_type": "markdown",
   "id": "b53c9df9",
   "metadata": {},
   "source": [
    "Flight count and Average Prices on Top 10 Routes"
   ]
  },
  {
   "cell_type": "code",
   "execution_count": 9,
   "id": "8dcb1820",
   "metadata": {},
   "outputs": [
    {
     "name": "stdout",
     "output_type": "stream",
     "text": [
      "                     Flight_Count  Average_Price\n",
      "Route                                           \n",
      "Delhi -> Mumbai             15289       19355.83\n",
      "Mumbai -> Delhi             14809       18725.32\n",
      "Delhi -> Bangalore          14012       17880.22\n",
      "Bangalore -> Delhi          13756       17723.31\n",
      "Bangalore -> Mumbai         12939       23128.62\n",
      "Mumbai -> Bangalore         12885       23147.87\n",
      "Mumbai -> Kolkata           12602       22379.15\n",
      "Delhi -> Kolkata            11934       20566.41\n",
      "Kolkata -> Mumbai           11467       22078.88\n",
      "Delhi -> Chennai            10780       19369.88\n"
     ]
    }
   ],
   "source": [
    "\n",
    "# Create a 'Route' column\n",
    "df_clean_data['Route'] = df_clean_data['source_city'] + ' -> ' + clean_data['destination_city']\n",
    "\n",
    "# Group by 'Route' and calculate count and average price\n",
    "route_stats = df_clean_data.groupby('Route').agg(\n",
    "    Flight_Count=('Route', 'count'),\n",
    "    Average_Price=('price', 'mean')\n",
    ")\n",
    "\n",
    "# Sort by most frequent routes\n",
    "top_5_routes = route_stats.sort_values(by='Flight_Count', ascending=False).head(10)\n",
    "\n",
    "# Round average prices for cleaner output (optional)\n",
    "top_5_routes['Average_Price'] = top_5_routes['Average_Price'].round(2)\n",
    "\n",
    "# Display results\n",
    "print(top_5_routes)\n"
   ]
  },
  {
   "cell_type": "markdown",
   "id": "a712815e",
   "metadata": {},
   "source": [
    "Extraction of top 10 route data "
   ]
  },
  {
   "cell_type": "code",
   "execution_count": 11,
   "metadata": {},
   "outputs": [
    {
     "name": "stdout",
     "output_type": "stream",
     "text": [
      "Filtered data saved to 'top_10_routes_data.csv'\n"
     ]
    }
   ],
   "source": [
    "# 1. Create the 'Route' column if not already present\n",
    "df_clean_data['Route'] = df_clean_data['source_city'] + ' -> ' + df_clean_data['destination_city']\n",
    "\n",
    "# 2. Define the top 10 routes from your earlier result\n",
    "top_routes = [\n",
    "    'Delhi -> Mumbai',\n",
    "    'Mumbai -> Delhi',\n",
    "    'Delhi -> Bangalore',\n",
    "    'Bangalore -> Delhi',\n",
    "    'Bangalore -> Mumbai',\n",
    "    'Mumbai -> Bangalore',\n",
    "    'Mumbai -> Kolkata',\n",
    "    'Delhi -> Kolkata',\n",
    "    'Kolkata -> Mumbai',\n",
    "    'Delhi -> Chennai'\n",
    "]\n",
    "\n",
    "# 3. Filter the original data to include only rows where 'Route' is in the top 10\n",
    "filtered_data = df_clean_data[df_clean_data['Route'].isin(top_routes)]\n",
    "\n",
    "# 4. Save the filtered data to a new CSV file\n",
    "filtered_data.to_csv('top_10_routes_data.csv', index=False)\n",
    "\n",
    "# Optional: print confirmation\n",
    "print(\"Filtered data saved to 'top_10_routes_data.csv'\")\n"
   ]
  },
  {
   "cell_type": "code",
   "execution_count": 12,
   "id": "88e83e0b",
   "metadata": {},
   "outputs": [],
   "source": [
    "# here we have extracted data for our model building "
   ]
  },
  {
   "cell_type": "markdown",
   "id": "1db61640",
   "metadata": {},
   "source": [
    "Price Prediction for top 10 flight routes "
   ]
  },
  {
   "cell_type": "code",
   "execution_count": null,
   "id": "d484dd31",
   "metadata": {},
   "outputs": [
    {
     "name": "stdout",
     "output_type": "stream",
     "text": [
      "\n",
      "Model Evaluation:\n",
      "MAE: 3220.27\n",
      "R² Score: 0.9492\n",
      "\n",
      "--- Enter Flight Details to Predict Ticket Price ---\n",
      "\n",
      "Predicted Ticket Price: ₹3,511.68\n"
     ]
    }
   ],
   "source": [
    "import pandas as pd\n",
    "import re\n",
    "from sklearn.model_selection import train_test_split\n",
    "from sklearn.ensemble import RandomForestRegressor\n",
    "from sklearn.metrics import mean_absolute_error, r2_score\n",
    "from sklearn.preprocessing import OneHotEncoder\n",
    "from sklearn.compose import ColumnTransformer\n",
    "from sklearn.pipeline import Pipeline\n",
    "\n",
    "# Load dataset\n",
    "df = pd.read_csv(\"top_10_routes_data.csv\")\n",
    "\n",
    "# Ensure categorical columns are strings\n",
    "categorical_cols = ['airline', 'source_city', 'destination_city', 'class', 'stops']\n",
    "df[categorical_cols] = df[categorical_cols].astype(str)\n",
    "\n",
    "# Normalize values\n",
    "for col in ['airline', 'source_city', 'destination_city', 'class']:\n",
    "    df[col] = df[col].str.strip().str.title()\n",
    "df['stops'] = df['stops'].str.strip().str.lower()\n",
    "\n",
    "# Features and target\n",
    "X = df[categorical_cols]\n",
    "y = df['price']\n",
    "\n",
    "# Split data\n",
    "X_train, X_test, y_train, y_test = train_test_split(X, y, test_size=0.2, random_state=42)\n",
    "\n",
    "# Pipeline\n",
    "preprocessor = ColumnTransformer([\n",
    "    ('cat', OneHotEncoder(handle_unknown='ignore'), categorical_cols)\n",
    "])\n",
    "model = Pipeline([\n",
    "    ('preprocessor', preprocessor),\n",
    "    ('regressor', RandomForestRegressor(n_estimators=100, random_state=42))\n",
    "])\n",
    "\n",
    "# Train\n",
    "model.fit(X_train, y_train)\n",
    "\n",
    "# Evaluate\n",
    "y_pred = model.predict(X_test)\n",
    "print(\"\\nModel Evaluation:\")\n",
    "print(\"MAE:\", round(mean_absolute_error(y_test, y_pred), 2))\n",
    "print(\"R² Score:\", round(r2_score(y_test, y_pred), 4))\n",
    "\n",
    "# === USER INPUT SECTION ===\n",
    "try:\n",
    "    print(\"\\n--- Enter Flight Details to Predict Ticket Price ---\")\n",
    "\n",
    "    airline_input = input(\"Airline (e.g., IndiGo/AirAsia/Air_India/GO_FIRST/SpiceJet/Vistara): \")\n",
    "    airline = re.sub(r'[^a-zA-Z\\s]', '', airline_input).strip().title()\n",
    "    if airline not in df['airline'].unique():\n",
    "        raise ValueError(f\"Invalid airline: {airline}\")\n",
    "\n",
    "    source_input = input(\"Source City (e.g., Delhi/Mumbai/Bangalore/Kolkata): \")\n",
    "    source_city = re.sub(r'[^a-zA-Z\\s]', '', source_input).strip().title()\n",
    "    if source_city not in df['source_city'].unique():\n",
    "        raise ValueError(f\"Invalid source city: {source_city}\")\n",
    "\n",
    "    dest_input = input(\"Destination City (e.g., Mumbai/Chennai/Kolkata/Bangalore/Delhi): \")\n",
    "    destination_city = re.sub(r'[^a-zA-Z\\s]', '', dest_input).strip().title()\n",
    "    if destination_city not in df['destination_city'].unique():\n",
    "        raise ValueError(f\"Invalid destination city: {destination_city}\")\n",
    "\n",
    "    class_input = input(\"Class (e.g., Economy/Business): \")\n",
    "    flight_class = re.sub(r'[^a-zA-Z\\s]', '', class_input).strip().title()\n",
    "    if flight_class not in df['class'].unique():\n",
    "        raise ValueError(f\"Invalid class: {flight_class}\")\n",
    "\n",
    "    # Get numeric input for stops and map to text\n",
    "    stops_input = input(\"Stops (Enter a number: 0 = non-stop, 1 = one stop, 2+ = two or more): \").strip()\n",
    "    if not stops_input.isdigit():\n",
    "        raise ValueError(\"Stops must be a valid number (0, 1, 2...)\")\n",
    "\n",
    "    stops_num = int(stops_input)\n",
    "    if stops_num == 0:\n",
    "        stops = \"zero\"\n",
    "    elif stops_num == 1:\n",
    "        stops = \"one\"\n",
    "    elif stops_num >= 2:\n",
    "        stops = \"two_or_more\"\n",
    "    else:\n",
    "        raise ValueError(\"Invalid number of stops.\")\n",
    "\n",
    "    if stops not in df['stops'].unique():\n",
    "        raise ValueError(f\"'{stops}' is not valid based on the dataset.\")\n",
    "\n",
    "    # Build input\n",
    "    user_input = pd.DataFrame([{\n",
    "        'airline': airline,\n",
    "        'source_city': source_city,\n",
    "        'destination_city': destination_city,\n",
    "        'class': flight_class,\n",
    "        'stops': stops\n",
    "    }])\n",
    "\n",
    "    # Predict\n",
    "    predicted_price = model.predict(user_input)\n",
    "    print(f\"\\nPredicted Ticket Price: ₹{predicted_price[0]:,.2f}\")\n",
    "\n",
    "except ValueError as ve:\n",
    "    print(f\"\\nInput Error: {ve}\")\n",
    "except Exception as e:\n",
    "    print(f\"\\nUnexpected Error: {e}\")\n"
   ]
  },
  {
   "cell_type": "markdown",
   "id": "a35894ed",
   "metadata": {},
   "source": [
    "Installing Tenserflow library"
   ]
  },
  {
   "cell_type": "code",
   "execution_count": 7,
   "id": "fda9819a",
   "metadata": {},
   "outputs": [
    {
     "name": "stdout",
     "output_type": "stream",
     "text": [
      "Requirement already satisfied: tensorflow in c:\\users\\darshil vaghela\\appdata\\local\\packages\\pythonsoftwarefoundation.python.3.11_qbz5n2kfra8p0\\localcache\\local-packages\\python311\\site-packages (2.13.1)\n",
      "Requirement already satisfied: tensorflow-intel==2.13.1 in c:\\users\\darshil vaghela\\appdata\\local\\packages\\pythonsoftwarefoundation.python.3.11_qbz5n2kfra8p0\\localcache\\local-packages\\python311\\site-packages (from tensorflow) (2.13.1)\n",
      "Requirement already satisfied: absl-py>=1.0.0 in c:\\users\\darshil vaghela\\appdata\\local\\packages\\pythonsoftwarefoundation.python.3.11_qbz5n2kfra8p0\\localcache\\local-packages\\python311\\site-packages (from tensorflow-intel==2.13.1->tensorflow) (2.1.0)\n",
      "Requirement already satisfied: astunparse>=1.6.0 in c:\\users\\darshil vaghela\\appdata\\local\\packages\\pythonsoftwarefoundation.python.3.11_qbz5n2kfra8p0\\localcache\\local-packages\\python311\\site-packages (from tensorflow-intel==2.13.1->tensorflow) (1.6.3)\n",
      "Requirement already satisfied: flatbuffers>=23.1.21 in c:\\users\\darshil vaghela\\appdata\\local\\packages\\pythonsoftwarefoundation.python.3.11_qbz5n2kfra8p0\\localcache\\local-packages\\python311\\site-packages (from tensorflow-intel==2.13.1->tensorflow) (24.3.25)\n",
      "Requirement already satisfied: gast<=0.4.0,>=0.2.1 in c:\\users\\darshil vaghela\\appdata\\local\\packages\\pythonsoftwarefoundation.python.3.11_qbz5n2kfra8p0\\localcache\\local-packages\\python311\\site-packages (from tensorflow-intel==2.13.1->tensorflow) (0.4.0)\n",
      "Requirement already satisfied: google-pasta>=0.1.1 in c:\\users\\darshil vaghela\\appdata\\local\\packages\\pythonsoftwarefoundation.python.3.11_qbz5n2kfra8p0\\localcache\\local-packages\\python311\\site-packages (from tensorflow-intel==2.13.1->tensorflow) (0.2.0)\n",
      "Requirement already satisfied: h5py>=2.9.0 in c:\\users\\darshil vaghela\\appdata\\local\\packages\\pythonsoftwarefoundation.python.3.11_qbz5n2kfra8p0\\localcache\\local-packages\\python311\\site-packages (from tensorflow-intel==2.13.1->tensorflow) (3.10.0)\n",
      "Requirement already satisfied: libclang>=13.0.0 in c:\\users\\darshil vaghela\\appdata\\local\\packages\\pythonsoftwarefoundation.python.3.11_qbz5n2kfra8p0\\localcache\\local-packages\\python311\\site-packages (from tensorflow-intel==2.13.1->tensorflow) (18.1.1)\n",
      "Requirement already satisfied: numpy<=1.24.3,>=1.22 in c:\\users\\darshil vaghela\\appdata\\local\\packages\\pythonsoftwarefoundation.python.3.11_qbz5n2kfra8p0\\localcache\\local-packages\\python311\\site-packages (from tensorflow-intel==2.13.1->tensorflow) (1.24.3)\n",
      "Requirement already satisfied: opt-einsum>=2.3.2 in c:\\users\\darshil vaghela\\appdata\\local\\packages\\pythonsoftwarefoundation.python.3.11_qbz5n2kfra8p0\\localcache\\local-packages\\python311\\site-packages (from tensorflow-intel==2.13.1->tensorflow) (3.3.0)\n",
      "Requirement already satisfied: packaging in c:\\users\\darshil vaghela\\appdata\\local\\packages\\pythonsoftwarefoundation.python.3.11_qbz5n2kfra8p0\\localcache\\local-packages\\python311\\site-packages (from tensorflow-intel==2.13.1->tensorflow) (23.2)\n",
      "Collecting protobuf!=4.21.0,!=4.21.1,!=4.21.2,!=4.21.3,!=4.21.4,!=4.21.5,<5.0.0dev,>=3.20.3 (from tensorflow-intel==2.13.1->tensorflow)\n",
      "  Downloading protobuf-4.25.8-cp310-abi3-win_amd64.whl.metadata (541 bytes)\n",
      "Requirement already satisfied: setuptools in c:\\program files\\windowsapps\\pythonsoftwarefoundation.python.3.11_3.11.2544.0_x64__qbz5n2kfra8p0\\lib\\site-packages (from tensorflow-intel==2.13.1->tensorflow) (65.5.0)\n",
      "Requirement already satisfied: six>=1.12.0 in c:\\users\\darshil vaghela\\appdata\\local\\packages\\pythonsoftwarefoundation.python.3.11_qbz5n2kfra8p0\\localcache\\local-packages\\python311\\site-packages (from tensorflow-intel==2.13.1->tensorflow) (1.16.0)\n",
      "Requirement already satisfied: termcolor>=1.1.0 in c:\\users\\darshil vaghela\\appdata\\local\\packages\\pythonsoftwarefoundation.python.3.11_qbz5n2kfra8p0\\localcache\\local-packages\\python311\\site-packages (from tensorflow-intel==2.13.1->tensorflow) (2.4.0)\n",
      "Collecting typing-extensions<4.6.0,>=3.6.6 (from tensorflow-intel==2.13.1->tensorflow)\n",
      "  Using cached typing_extensions-4.5.0-py3-none-any.whl.metadata (8.5 kB)\n",
      "Requirement already satisfied: wrapt>=1.11.0 in c:\\users\\darshil vaghela\\appdata\\local\\packages\\pythonsoftwarefoundation.python.3.11_qbz5n2kfra8p0\\localcache\\local-packages\\python311\\site-packages (from tensorflow-intel==2.13.1->tensorflow) (1.16.0)\n",
      "Requirement already satisfied: grpcio<2.0,>=1.24.3 in c:\\users\\darshil vaghela\\appdata\\local\\packages\\pythonsoftwarefoundation.python.3.11_qbz5n2kfra8p0\\localcache\\local-packages\\python311\\site-packages (from tensorflow-intel==2.13.1->tensorflow) (1.63.2)\n",
      "Requirement already satisfied: tensorboard<2.14,>=2.13 in c:\\users\\darshil vaghela\\appdata\\local\\packages\\pythonsoftwarefoundation.python.3.11_qbz5n2kfra8p0\\localcache\\local-packages\\python311\\site-packages (from tensorflow-intel==2.13.1->tensorflow) (2.13.0)\n",
      "Requirement already satisfied: tensorflow-estimator<2.14,>=2.13.0 in c:\\users\\darshil vaghela\\appdata\\local\\packages\\pythonsoftwarefoundation.python.3.11_qbz5n2kfra8p0\\localcache\\local-packages\\python311\\site-packages (from tensorflow-intel==2.13.1->tensorflow) (2.13.0)\n",
      "Requirement already satisfied: keras<2.14,>=2.13.1 in c:\\users\\darshil vaghela\\appdata\\local\\packages\\pythonsoftwarefoundation.python.3.11_qbz5n2kfra8p0\\localcache\\local-packages\\python311\\site-packages (from tensorflow-intel==2.13.1->tensorflow) (2.13.1)\n",
      "Requirement already satisfied: tensorflow-io-gcs-filesystem>=0.23.1 in c:\\users\\darshil vaghela\\appdata\\local\\packages\\pythonsoftwarefoundation.python.3.11_qbz5n2kfra8p0\\localcache\\local-packages\\python311\\site-packages (from tensorflow-intel==2.13.1->tensorflow) (0.31.0)\n",
      "Requirement already satisfied: wheel<1.0,>=0.23.0 in c:\\users\\darshil vaghela\\appdata\\local\\packages\\pythonsoftwarefoundation.python.3.11_qbz5n2kfra8p0\\localcache\\local-packages\\python311\\site-packages (from astunparse>=1.6.0->tensorflow-intel==2.13.1->tensorflow) (0.43.0)\n",
      "Requirement already satisfied: google-auth<3,>=1.6.3 in c:\\users\\darshil vaghela\\appdata\\local\\packages\\pythonsoftwarefoundation.python.3.11_qbz5n2kfra8p0\\localcache\\local-packages\\python311\\site-packages (from tensorboard<2.14,>=2.13->tensorflow-intel==2.13.1->tensorflow) (2.29.0)\n",
      "Requirement already satisfied: google-auth-oauthlib<1.1,>=0.5 in c:\\users\\darshil vaghela\\appdata\\local\\packages\\pythonsoftwarefoundation.python.3.11_qbz5n2kfra8p0\\localcache\\local-packages\\python311\\site-packages (from tensorboard<2.14,>=2.13->tensorflow-intel==2.13.1->tensorflow) (1.0.0)\n",
      "Requirement already satisfied: markdown>=2.6.8 in c:\\users\\darshil vaghela\\appdata\\local\\packages\\pythonsoftwarefoundation.python.3.11_qbz5n2kfra8p0\\localcache\\local-packages\\python311\\site-packages (from tensorboard<2.14,>=2.13->tensorflow-intel==2.13.1->tensorflow) (3.6)\n",
      "Requirement already satisfied: requests<3,>=2.21.0 in c:\\users\\darshil vaghela\\appdata\\local\\packages\\pythonsoftwarefoundation.python.3.11_qbz5n2kfra8p0\\localcache\\local-packages\\python311\\site-packages (from tensorboard<2.14,>=2.13->tensorflow-intel==2.13.1->tensorflow) (2.32.3)\n",
      "Requirement already satisfied: tensorboard-data-server<0.8.0,>=0.7.0 in c:\\users\\darshil vaghela\\appdata\\local\\packages\\pythonsoftwarefoundation.python.3.11_qbz5n2kfra8p0\\localcache\\local-packages\\python311\\site-packages (from tensorboard<2.14,>=2.13->tensorflow-intel==2.13.1->tensorflow) (0.7.2)\n",
      "Requirement already satisfied: werkzeug>=1.0.1 in c:\\users\\darshil vaghela\\appdata\\local\\packages\\pythonsoftwarefoundation.python.3.11_qbz5n2kfra8p0\\localcache\\local-packages\\python311\\site-packages (from tensorboard<2.14,>=2.13->tensorflow-intel==2.13.1->tensorflow) (3.0.1)\n",
      "Requirement already satisfied: cachetools<6.0,>=2.0.0 in c:\\users\\darshil vaghela\\appdata\\local\\packages\\pythonsoftwarefoundation.python.3.11_qbz5n2kfra8p0\\localcache\\local-packages\\python311\\site-packages (from google-auth<3,>=1.6.3->tensorboard<2.14,>=2.13->tensorflow-intel==2.13.1->tensorflow) (5.3.3)\n",
      "Requirement already satisfied: pyasn1-modules>=0.2.1 in c:\\users\\darshil vaghela\\appdata\\local\\packages\\pythonsoftwarefoundation.python.3.11_qbz5n2kfra8p0\\localcache\\local-packages\\python311\\site-packages (from google-auth<3,>=1.6.3->tensorboard<2.14,>=2.13->tensorflow-intel==2.13.1->tensorflow) (0.4.0)\n",
      "Requirement already satisfied: rsa<5,>=3.1.4 in c:\\users\\darshil vaghela\\appdata\\local\\packages\\pythonsoftwarefoundation.python.3.11_qbz5n2kfra8p0\\localcache\\local-packages\\python311\\site-packages (from google-auth<3,>=1.6.3->tensorboard<2.14,>=2.13->tensorflow-intel==2.13.1->tensorflow) (4.9)\n",
      "Requirement already satisfied: requests-oauthlib>=0.7.0 in c:\\users\\darshil vaghela\\appdata\\local\\packages\\pythonsoftwarefoundation.python.3.11_qbz5n2kfra8p0\\localcache\\local-packages\\python311\\site-packages (from google-auth-oauthlib<1.1,>=0.5->tensorboard<2.14,>=2.13->tensorflow-intel==2.13.1->tensorflow) (2.0.0)\n",
      "Requirement already satisfied: charset-normalizer<4,>=2 in c:\\users\\darshil vaghela\\appdata\\local\\packages\\pythonsoftwarefoundation.python.3.11_qbz5n2kfra8p0\\localcache\\local-packages\\python311\\site-packages (from requests<3,>=2.21.0->tensorboard<2.14,>=2.13->tensorflow-intel==2.13.1->tensorflow) (3.3.2)\n",
      "Requirement already satisfied: idna<4,>=2.5 in c:\\users\\darshil vaghela\\appdata\\local\\packages\\pythonsoftwarefoundation.python.3.11_qbz5n2kfra8p0\\localcache\\local-packages\\python311\\site-packages (from requests<3,>=2.21.0->tensorboard<2.14,>=2.13->tensorflow-intel==2.13.1->tensorflow) (3.6)\n",
      "Requirement already satisfied: urllib3<3,>=1.21.1 in c:\\users\\darshil vaghela\\appdata\\local\\packages\\pythonsoftwarefoundation.python.3.11_qbz5n2kfra8p0\\localcache\\local-packages\\python311\\site-packages (from requests<3,>=2.21.0->tensorboard<2.14,>=2.13->tensorflow-intel==2.13.1->tensorflow) (1.26.18)\n",
      "Requirement already satisfied: certifi>=2017.4.17 in c:\\users\\darshil vaghela\\appdata\\local\\packages\\pythonsoftwarefoundation.python.3.11_qbz5n2kfra8p0\\localcache\\local-packages\\python311\\site-packages (from requests<3,>=2.21.0->tensorboard<2.14,>=2.13->tensorflow-intel==2.13.1->tensorflow) (2023.11.17)\n",
      "Requirement already satisfied: MarkupSafe>=2.1.1 in c:\\users\\darshil vaghela\\appdata\\local\\packages\\pythonsoftwarefoundation.python.3.11_qbz5n2kfra8p0\\localcache\\local-packages\\python311\\site-packages (from werkzeug>=1.0.1->tensorboard<2.14,>=2.13->tensorflow-intel==2.13.1->tensorflow) (2.1.3)\n",
      "Requirement already satisfied: pyasn1<0.7.0,>=0.4.6 in c:\\users\\darshil vaghela\\appdata\\local\\packages\\pythonsoftwarefoundation.python.3.11_qbz5n2kfra8p0\\localcache\\local-packages\\python311\\site-packages (from pyasn1-modules>=0.2.1->google-auth<3,>=1.6.3->tensorboard<2.14,>=2.13->tensorflow-intel==2.13.1->tensorflow) (0.6.0)\n",
      "Requirement already satisfied: oauthlib>=3.0.0 in c:\\users\\darshil vaghela\\appdata\\local\\packages\\pythonsoftwarefoundation.python.3.11_qbz5n2kfra8p0\\localcache\\local-packages\\python311\\site-packages (from requests-oauthlib>=0.7.0->google-auth-oauthlib<1.1,>=0.5->tensorboard<2.14,>=2.13->tensorflow-intel==2.13.1->tensorflow) (3.2.2)\n",
      "Downloading protobuf-4.25.8-cp310-abi3-win_amd64.whl (413 kB)\n",
      "   ---------------------------------------- 0.0/413.7 kB ? eta -:--:--\n",
      "    --------------------------------------- 10.2/413.7 kB ? eta -:--:--\n",
      "   --- ----------------------------------- 41.0/413.7 kB 487.6 kB/s eta 0:00:01\n",
      "   --------------------- ------------------ 225.3/413.7 kB 2.0 MB/s eta 0:00:01\n",
      "   ---------------------------------------  409.6/413.7 kB 2.8 MB/s eta 0:00:01\n",
      "   ---------------------------------------- 413.7/413.7 kB 2.3 MB/s eta 0:00:00\n",
      "Using cached typing_extensions-4.5.0-py3-none-any.whl (27 kB)\n",
      "Installing collected packages: typing-extensions, protobuf\n",
      "  Attempting uninstall: typing-extensions\n",
      "    Found existing installation: typing_extensions 4.12.2\n",
      "    Uninstalling typing_extensions-4.12.2:\n",
      "      Successfully uninstalled typing_extensions-4.12.2\n",
      "  Attempting uninstall: protobuf\n",
      "    Found existing installation: protobuf 5.28.2\n",
      "    Uninstalling protobuf-5.28.2:\n",
      "      Successfully uninstalled protobuf-5.28.2\n",
      "Successfully installed protobuf-4.25.8 typing-extensions-4.5.0\n"
     ]
    },
    {
     "name": "stderr",
     "output_type": "stream",
     "text": [
      "ERROR: pip's dependency resolver does not currently take into account all the packages that are installed. This behaviour is the source of the following dependency conflicts.\n",
      "altair 5.4.0 requires typing-extensions>=4.10.0; python_version < \"3.13\", but you have typing-extensions 4.5.0 which is incompatible.\n",
      "grpcio-tools 1.63.2 requires protobuf<6.0dev,>=5.26.1, but you have protobuf 4.25.8 which is incompatible.\n",
      "openai 1.47.0 requires typing-extensions<5,>=4.11, but you have typing-extensions 4.5.0 which is incompatible.\n",
      "pydantic 2.9.2 requires typing-extensions>=4.6.1; python_version < \"3.13\", but you have typing-extensions 4.5.0 which is incompatible.\n",
      "pydantic-core 2.23.4 requires typing-extensions!=4.7.0,>=4.6.0, but you have typing-extensions 4.5.0 which is incompatible.\n",
      "torch 2.2.2 requires typing-extensions>=4.8.0, but you have typing-extensions 4.5.0 which is incompatible.\n",
      "\n",
      "[notice] A new release of pip is available: 24.0 -> 25.1.1\n",
      "[notice] To update, run: C:\\Users\\Darshil Vaghela\\AppData\\Local\\Microsoft\\WindowsApps\\PythonSoftwareFoundation.Python.3.11_qbz5n2kfra8p0\\python.exe -m pip install --upgrade pip\n"
     ]
    }
   ],
   "source": [
    "! pip install tensorflow"
   ]
  },
  {
   "cell_type": "code",
   "execution_count": 8,
   "id": "2d72eef2",
   "metadata": {},
   "outputs": [
    {
     "name": "stdout",
     "output_type": "stream",
     "text": [
      "2.13.1\n"
     ]
    }
   ],
   "source": [
    "import tensorflow as tf\n",
    "print(tf.__version__)\n"
   ]
  },
  {
   "cell_type": "markdown",
   "id": "b6c80e81",
   "metadata": {},
   "source": [
    "Price Prediction for top 10 flight routes using Tenserflow"
   ]
  },
  {
   "cell_type": "code",
   "execution_count": null,
   "id": "9cd14330",
   "metadata": {},
   "outputs": [
    {
     "name": "stdout",
     "output_type": "stream",
     "text": [
      "816/816 [==============================] - 2s 3ms/step\n",
      "\n",
      "Model Evaluation:\n",
      "MAE: 3296.27\n",
      "R² Score: 0.9481\n",
      "\n",
      "--- Enter Flight Details to Predict Ticket Price ---\n",
      "1/1 [==============================] - 0s 32ms/step\n",
      "\n",
      "Predicted Ticket Price: ₹3,455.32\n"
     ]
    }
   ],
   "source": [
    "import pandas as pd\n",
    "import re\n",
    "import numpy as np\n",
    "from sklearn.model_selection import train_test_split\n",
    "from sklearn.preprocessing import OneHotEncoder\n",
    "from sklearn.compose import ColumnTransformer\n",
    "from sklearn.pipeline import Pipeline\n",
    "from sklearn.metrics import mean_absolute_error, r2_score\n",
    "import tensorflow as tf\n",
    "from tensorflow import keras\n",
    "from tensorflow.keras import layers, models\n",
    "\n",
    "# Load dataset\n",
    "df = pd.read_csv(\"top_10_routes_data.csv\")\n",
    "\n",
    "# Ensure categorical columns are strings\n",
    "categorical_cols = ['airline', 'source_city', 'destination_city', 'class', 'stops']\n",
    "df[categorical_cols] = df[categorical_cols].astype(str)\n",
    "\n",
    "# Normalize values\n",
    "for col in ['airline', 'source_city', 'destination_city', 'class']:\n",
    "    df[col] = df[col].str.strip().str.title()\n",
    "df['stops'] = df['stops'].str.strip().str.lower()\n",
    "\n",
    "# Features and target\n",
    "X = df[categorical_cols]\n",
    "y = df['price']\n",
    "\n",
    "# Preprocessing\n",
    "encoder = ColumnTransformer([\n",
    "    ('cat', OneHotEncoder(handle_unknown='ignore'), categorical_cols)\n",
    "])\n",
    "\n",
    "X_encoded = encoder.fit_transform(X).toarray()\n",
    "\n",
    "# Split data\n",
    "X_train, X_test, y_train, y_test = train_test_split(X_encoded, y, test_size=0.2, random_state=42)\n",
    "\n",
    "# Build model\n",
    "model = models.Sequential([\n",
    "    layers.Dense(128, activation='relu', input_shape=(X_train.shape[1],)),\n",
    "    layers.Dense(64, activation='relu'),\n",
    "    layers.Dense(1)  # Regression output\n",
    "])\n",
    "\n",
    "model.compile(optimizer='adam', loss='mse', metrics=['mae'])\n",
    "\n",
    "# Train model\n",
    "model.fit(X_train, y_train, epochs=50, batch_size=32, verbose=0)\n",
    "\n",
    "# Evaluate\n",
    "loss, mae = model.evaluate(X_test, y_test, verbose=0)\n",
    "y_pred = model.predict(X_test).flatten()\n",
    "r2 = r2_score(y_test, y_pred)\n",
    "\n",
    "print(\"\\nModel Evaluation:\")\n",
    "print(\"MAE:\", round(mae, 2))\n",
    "print(\"R² Score:\", round(r2, 4))\n",
    "\n",
    "# === USER INPUT SECTION ===\n",
    "try:\n",
    "    print(\"\\n--- Enter Flight Details to Predict Ticket Price ---\")\n",
    "\n",
    "    airline_input = input(\"Airline (e.g., IndiGo/AirAsia/Air_India/GO_FIRST/SpiceJet/Vistara): \")\n",
    "    airline = re.sub(r'[^a-zA-Z\\s]', '', airline_input).strip().title()\n",
    "    if airline not in df['airline'].unique():\n",
    "        raise ValueError(f\"Invalid airline: {airline}\")\n",
    "\n",
    "    source_input = input(\"Source City (e.g., Delhi/Mumbai/Bangalore/Kolkata): \")\n",
    "    source_city = re.sub(r'[^a-zA-Z\\s]', '', source_input).strip().title()\n",
    "    if source_city not in df['source_city'].unique():\n",
    "        raise ValueError(f\"Invalid source city: {source_city}\")\n",
    "\n",
    "    dest_input = input(\"Destination City (e.g., Mumbai/Chennai/Kolkata/Bangalore/Delhi): \")\n",
    "    destination_city = re.sub(r'[^a-zA-Z\\s]', '', dest_input).strip().title()\n",
    "    if destination_city not in df['destination_city'].unique():\n",
    "        raise ValueError(f\"Invalid destination city: {destination_city}\")\n",
    "\n",
    "    class_input = input(\"Class (e.g., Economy/Business): \")\n",
    "    flight_class = re.sub(r'[^a-zA-Z\\s]', '', class_input).strip().title()\n",
    "    if flight_class not in df['class'].unique():\n",
    "        raise ValueError(f\"Invalid class: {flight_class}\")\n",
    "\n",
    "    stops_input = input(\"Stops (Enter a number: 0 = non-stop, 1 = one stop, 2+ = two or more): \").strip()\n",
    "    if not stops_input.isdigit():\n",
    "        raise ValueError(\"Stops must be a valid number (0, 1, 2...)\")\n",
    "\n",
    "    stops_num = int(stops_input)\n",
    "    if stops_num == 0:\n",
    "        stops = \"zero\"\n",
    "    elif stops_num == 1:\n",
    "        stops = \"one\"\n",
    "    else:\n",
    "        stops = \"two_or_more\"\n",
    "\n",
    "    if stops not in df['stops'].unique():\n",
    "        raise ValueError(f\"Invalid stops: {stops}\")\n",
    "\n",
    "    # Prepare input DataFrame\n",
    "    user_df = pd.DataFrame([{\n",
    "        'airline': airline,\n",
    "        'source_city': source_city,\n",
    "        'destination_city': destination_city,\n",
    "        'class': flight_class,\n",
    "        'stops': stops\n",
    "    }])\n",
    "\n",
    "    user_encoded = encoder.transform(user_df).toarray()\n",
    "    predicted_price = model.predict(user_encoded)\n",
    "\n",
    "    print(f\"\\nPredicted Ticket Price: ₹{predicted_price[0][0]:,.2f}\")\n",
    "\n",
    "except ValueError as ve:\n",
    "    print(f\"\\nInput Error: {ve}\")\n",
    "except Exception as e:\n",
    "    print(f\"\\nUnexpected Error: {e}\")\n"
   ]
  }
 ],
 "metadata": {
  "kernelspec": {
   "display_name": "Python 3",
   "language": "python",
   "name": "python3"
  },
  "language_info": {
   "codemirror_mode": {
    "name": "ipython",
    "version": 3
   },
   "file_extension": ".py",
   "mimetype": "text/x-python",
   "name": "python",
   "nbconvert_exporter": "python",
   "pygments_lexer": "ipython3",
   "version": "3.11.9"
  }
 },
 "nbformat": 4,
 "nbformat_minor": 5
}
